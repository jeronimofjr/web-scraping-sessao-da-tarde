{
 "cells": [
  {
   "attachments": {},
   "cell_type": "markdown",
   "metadata": {},
   "source": [
    "#### Importações"
   ]
  },
  {
   "cell_type": "code",
   "execution_count": 45,
   "metadata": {},
   "outputs": [
    {
     "name": "stderr",
     "output_type": "stream",
     "text": [
      "[nltk_data] Downloading package stopwords to /home/jr/nltk_data...\n",
      "[nltk_data]   Package stopwords is already up-to-date!\n"
     ]
    },
    {
     "data": {
      "text/plain": [
       "True"
      ]
     },
     "execution_count": 45,
     "metadata": {},
     "output_type": "execute_result"
    }
   ],
   "source": [
    "import pandas as pd\n",
    "\n",
    "from wordcloud import WordCloud\n",
    "import matplotlib.pyplot as plt\n",
    "from more_itertools import flatten\n",
    "from collections import Counter\n",
    "\n",
    "import re\n",
    "import nltk\n",
    "nltk.download('stopwords')"
   ]
  },
  {
   "attachments": {},
   "cell_type": "markdown",
   "metadata": {},
   "source": [
    "#### Leitura dos dados"
   ]
  },
  {
   "cell_type": "code",
   "execution_count": 2,
   "metadata": {},
   "outputs": [
    {
     "data": {
      "text/html": [
       "<div>\n",
       "<style scoped>\n",
       "    .dataframe tbody tr th:only-of-type {\n",
       "        vertical-align: middle;\n",
       "    }\n",
       "\n",
       "    .dataframe tbody tr th {\n",
       "        vertical-align: top;\n",
       "    }\n",
       "\n",
       "    .dataframe thead th {\n",
       "        text-align: right;\n",
       "    }\n",
       "</style>\n",
       "<table border=\"1\" class=\"dataframe\">\n",
       "  <thead>\n",
       "    <tr style=\"text-align: right;\">\n",
       "      <th></th>\n",
       "      <th>titulo</th>\n",
       "      <th>ano</th>\n",
       "      <th>mes</th>\n",
       "      <th>dia</th>\n",
       "    </tr>\n",
       "  </thead>\n",
       "  <tbody>\n",
       "    <tr>\n",
       "      <th>0</th>\n",
       "      <td>Percy Jackson e o Ladrão de Raios</td>\n",
       "      <td>2021</td>\n",
       "      <td>Janeiro</td>\n",
       "      <td>01</td>\n",
       "    </tr>\n",
       "    <tr>\n",
       "      <th>1</th>\n",
       "      <td>Pai em Dose Dupla</td>\n",
       "      <td>2021</td>\n",
       "      <td>Janeiro</td>\n",
       "      <td>04</td>\n",
       "    </tr>\n",
       "    <tr>\n",
       "      <th>2</th>\n",
       "      <td>Turma da Mônica: Laços</td>\n",
       "      <td>2021</td>\n",
       "      <td>Janeiro</td>\n",
       "      <td>05</td>\n",
       "    </tr>\n",
       "    <tr>\n",
       "      <th>3</th>\n",
       "      <td>Hotel Transilvânia 2</td>\n",
       "      <td>2021</td>\n",
       "      <td>Janeiro</td>\n",
       "      <td>06</td>\n",
       "    </tr>\n",
       "    <tr>\n",
       "      <th>4</th>\n",
       "      <td>O Diário da Princesa</td>\n",
       "      <td>2021</td>\n",
       "      <td>Janeiro</td>\n",
       "      <td>07</td>\n",
       "    </tr>\n",
       "    <tr>\n",
       "      <th>5</th>\n",
       "      <td>Stardust: O Mistério da Estrela</td>\n",
       "      <td>2021</td>\n",
       "      <td>Janeiro</td>\n",
       "      <td>08</td>\n",
       "    </tr>\n",
       "    <tr>\n",
       "      <th>6</th>\n",
       "      <td>Férias da Família Johnson</td>\n",
       "      <td>2021</td>\n",
       "      <td>Janeiro</td>\n",
       "      <td>11</td>\n",
       "    </tr>\n",
       "    <tr>\n",
       "      <th>7</th>\n",
       "      <td>Os Pinguins do Papai</td>\n",
       "      <td>2021</td>\n",
       "      <td>Janeiro</td>\n",
       "      <td>12</td>\n",
       "    </tr>\n",
       "    <tr>\n",
       "      <th>8</th>\n",
       "      <td>Shrek 2</td>\n",
       "      <td>2021</td>\n",
       "      <td>Janeiro</td>\n",
       "      <td>13</td>\n",
       "    </tr>\n",
       "    <tr>\n",
       "      <th>9</th>\n",
       "      <td>Sonhos de Papel</td>\n",
       "      <td>2021</td>\n",
       "      <td>Janeiro</td>\n",
       "      <td>14</td>\n",
       "    </tr>\n",
       "  </tbody>\n",
       "</table>\n",
       "</div>"
      ],
      "text/plain": [
       "                              titulo   ano      mes dia\n",
       "0  Percy Jackson e o Ladrão de Raios  2021  Janeiro  01\n",
       "1                  Pai em Dose Dupla  2021  Janeiro  04\n",
       "2             Turma da Mônica: Laços  2021  Janeiro  05\n",
       "3               Hotel Transilvânia 2  2021  Janeiro  06\n",
       "4               O Diário da Princesa  2021  Janeiro  07\n",
       "5    Stardust: O Mistério da Estrela  2021  Janeiro  08\n",
       "6          Férias da Família Johnson  2021  Janeiro  11\n",
       "7               Os Pinguins do Papai  2021  Janeiro  12\n",
       "8                            Shrek 2  2021  Janeiro  13\n",
       "9                    Sonhos de Papel  2021  Janeiro  14"
      ]
     },
     "execution_count": 2,
     "metadata": {},
     "output_type": "execute_result"
    }
   ],
   "source": [
    "df = pd.read_csv(\"./data/sessao_da_tarde.csv\")\n",
    "\n",
    "df.head(10)"
   ]
  },
  {
   "cell_type": "code",
   "execution_count": 3,
   "metadata": {},
   "outputs": [
    {
     "name": "stdout",
     "output_type": "stream",
     "text": [
      "<class 'pandas.core.frame.DataFrame'>\n",
      "RangeIndex: 8425 entries, 0 to 8424\n",
      "Data columns (total 4 columns):\n",
      " #   Column  Non-Null Count  Dtype \n",
      "---  ------  --------------  ----- \n",
      " 0   titulo  8425 non-null   object\n",
      " 1   ano     8425 non-null   int64 \n",
      " 2   mes     8425 non-null   object\n",
      " 3   dia     8425 non-null   object\n",
      "dtypes: int64(1), object(3)\n",
      "memory usage: 263.4+ KB\n"
     ]
    }
   ],
   "source": [
    "df.info()"
   ]
  },
  {
   "cell_type": "code",
   "execution_count": 4,
   "metadata": {},
   "outputs": [
    {
     "name": "stdout",
     "output_type": "stream",
     "text": [
      "Quantidade de filmes transmitidos: 8425\n"
     ]
    }
   ],
   "source": [
    "print(f\"Quantidade de filmes transmitidos: {df.shape[0]}\")"
   ]
  },
  {
   "cell_type": "code",
   "execution_count": 5,
   "metadata": {},
   "outputs": [
    {
     "name": "stdout",
     "output_type": "stream",
     "text": [
      "Quantidade de filmes distintos transmitidos: 3413\n"
     ]
    }
   ],
   "source": [
    "print(f\"Quantidade de filmes distintos transmitidos: {df['titulo'].nunique()}\")"
   ]
  },
  {
   "attachments": {},
   "cell_type": "markdown",
   "metadata": {},
   "source": [
    "#### Top-10 Filmes com maior frequência de transmissão"
   ]
  },
  {
   "cell_type": "code",
   "execution_count": 6,
   "metadata": {},
   "outputs": [
    {
     "data": {
      "text/plain": [
       "titulo\n",
       "De Volta À Lagoa Azul           18\n",
       "De Repente 30                   16\n",
       "Curtindo A Vida Adoidado        15\n",
       "Um Príncipe Em Nova York        15\n",
       "Ghost: Do Outro Lado Da Vida    15\n",
       "A Família Buscapé               15\n",
       "O Rapto Do Menino Dourado       15\n",
       "O Pestinha                      14\n",
       "Táxi                            14\n",
       "O Grande Desafio                14\n",
       "Name: count, dtype: int64"
      ]
     },
     "execution_count": 6,
     "metadata": {},
     "output_type": "execute_result"
    }
   ],
   "source": [
    "df[\"titulo\"].value_counts().head(10)"
   ]
  },
  {
   "attachments": {},
   "cell_type": "markdown",
   "metadata": {},
   "source": [
    "#### Quantidade de filmes transmitidos por cada mês"
   ]
  },
  {
   "cell_type": "code",
   "execution_count": 7,
   "metadata": {},
   "outputs": [
    {
     "data": {
      "text/plain": [
       "mes\n",
       "Janeiro      764\n",
       "Março        747\n",
       "Dezembro     744\n",
       "Outubro      741\n",
       "Novembro     720\n",
       "Agosto       718\n",
       "Setembro     708\n",
       "Abril        704\n",
       "Maio         704\n",
       "Julho        687\n",
       "Junho        605\n",
       "Fevereiro    583\n",
       "Name: titulo, dtype: int64"
      ]
     },
     "execution_count": 7,
     "metadata": {},
     "output_type": "execute_result"
    }
   ],
   "source": [
    "df.groupby(\"mes\")[\"titulo\"].count().sort_values(ascending=False)"
   ]
  },
  {
   "attachments": {},
   "cell_type": "markdown",
   "metadata": {},
   "source": [
    "#### Top-10 anos com a maior quantidade de filmes transmitidos"
   ]
  },
  {
   "cell_type": "code",
   "execution_count": 8,
   "metadata": {},
   "outputs": [
    {
     "data": {
      "text/plain": [
       "ano\n",
       "2020    260\n",
       "2008    259\n",
       "2019    255\n",
       "2021    254\n",
       "2009    253\n",
       "2011    251\n",
       "1989    250\n",
       "2003    249\n",
       "2012    249\n",
       "2007    248\n",
       "Name: titulo, dtype: int64"
      ]
     },
     "execution_count": 8,
     "metadata": {},
     "output_type": "execute_result"
    }
   ],
   "source": [
    "df.groupby(\"ano\")[\"titulo\"].count().sort_values(ascending=False).head(10)"
   ]
  },
  {
   "attachments": {},
   "cell_type": "markdown",
   "metadata": {},
   "source": [
    "#### Top-5 filmes mais transmitidos no mês de Dezembro"
   ]
  },
  {
   "cell_type": "code",
   "execution_count": 9,
   "metadata": {},
   "outputs": [
    {
     "data": {
      "text/plain": [
       "titulo\n",
       "O Príncipe Do Egito             6\n",
       "Apenas Amigos                   4\n",
       "Olha Quem Está Falando Agora    3\n",
       "A Filha Dos Trapalhões          3\n",
       "Cocoon: O Regresso              3\n",
       "Name: count, dtype: int64"
      ]
     },
     "execution_count": 9,
     "metadata": {},
     "output_type": "execute_result"
    }
   ],
   "source": [
    "df.groupby(\"mes\")[\"titulo\"].value_counts(ascending=False)[\"Dezembro\"].head(5)"
   ]
  },
  {
   "attachments": {},
   "cell_type": "markdown",
   "metadata": {},
   "source": [
    "#### Filmes que foram transmitidos durante o Natal"
   ]
  },
  {
   "cell_type": "code",
   "execution_count": 10,
   "metadata": {},
   "outputs": [
    {
     "data": {
      "text/plain": [
       "titulo\n",
       "Esqueceram De Mim 2: Perdido Em Nova York       2\n",
       "Apenas Amigos                                   1\n",
       "A Bússola de Ouro                               1\n",
       "As Gêmeas Da Sorte                              1\n",
       "Sexta-Feira                                     1\n",
       "Um Natal Muito, Muito Louco                     1\n",
       "Toy Story: Um Mundo De Aventuras                1\n",
       "Santa Buddies: Uma Aventura de Natal            1\n",
       "Barbie em O Quebra Nozes                        1\n",
       "PéPequeno                                       1\n",
       "Os Saltimbancos Trapalhões: Rumo a Hollywood    1\n",
       "O Reino Gelado                                  1\n",
       "O Príncipe Do Egito                             1\n",
       "O Natal Mágico                                  1\n",
       "O Natal Maluco De Ernest                        1\n",
       "O Grinch                                        1\n",
       "O Cristal Encantado                             1\n",
       "Monstros VS Alienígenas                         1\n",
       "Frozen: Uma Aventura Congelante                 1\n",
       "FormiguinhaZ                                    1\n",
       "Esqueceram de Mim                               1\n",
       "Esqueceram De Mim 4                             1\n",
       "Name: count, dtype: int64"
      ]
     },
     "execution_count": 10,
     "metadata": {},
     "output_type": "execute_result"
    }
   ],
   "source": [
    "df.groupby([\"mes\", \"dia\"])[\"titulo\"].value_counts(ascending=False)[\"Dezembro\", \"25\"]"
   ]
  },
  {
   "attachments": {},
   "cell_type": "markdown",
   "metadata": {},
   "source": [
    "#### Filmes que foram transmitidos no último dia do ano"
   ]
  },
  {
   "cell_type": "code",
   "execution_count": 11,
   "metadata": {},
   "outputs": [
    {
     "data": {
      "text/plain": [
       "titulo\n",
       "Tarzan E Jane                             1\n",
       "Hotel Transilvânia                        1\n",
       "Tainá 2: A Aventura Continua              1\n",
       "Segurança De Shopping                     1\n",
       "Popeye                                    1\n",
       "Os Vagabundos Trapalhões                  1\n",
       "Os Goonies                                1\n",
       "Operação Zodíaco                          1\n",
       "O Terno De 2 Bilhões De Dólares           1\n",
       "O Pequeno Stuart Little 2                 1\n",
       "O Espanta Tubarões                        1\n",
       "O Cangaceiro Trapalhão                    1\n",
       "Noite de Ano Novo                         1\n",
       "Mom And Dad: Uma Aventura No Espaço       1\n",
       "Karatê Kid: a Hora da Verdade             1\n",
       "Como Treinar o seu Dragão                 1\n",
       "Bambi 2: O Grande Príncipe Da Floresta    1\n",
       "A Ilha Do Tesouro                         1\n",
       "A Creche Do Papai                         1\n",
       "Name: count, dtype: int64"
      ]
     },
     "execution_count": 11,
     "metadata": {},
     "output_type": "execute_result"
    }
   ],
   "source": [
    "df.groupby([\"mes\", \"dia\"])[\"titulo\"].value_counts(ascending=False)[\"Dezembro\", \"31\"]"
   ]
  },
  {
   "attachments": {},
   "cell_type": "markdown",
   "metadata": {},
   "source": [
    "#### Filmes que foram exibidos no mesmo mês e dia\n",
    "\n",
    "O mesmo filme exibido no mesmo mês e dia..."
   ]
  },
  {
   "cell_type": "code",
   "execution_count": 12,
   "metadata": {},
   "outputs": [
    {
     "data": {
      "text/html": [
       "<div>\n",
       "<style scoped>\n",
       "    .dataframe tbody tr th:only-of-type {\n",
       "        vertical-align: middle;\n",
       "    }\n",
       "\n",
       "    .dataframe tbody tr th {\n",
       "        vertical-align: top;\n",
       "    }\n",
       "\n",
       "    .dataframe thead th {\n",
       "        text-align: right;\n",
       "    }\n",
       "</style>\n",
       "<table border=\"1\" class=\"dataframe\">\n",
       "  <thead>\n",
       "    <tr style=\"text-align: right;\">\n",
       "      <th></th>\n",
       "      <th>titulo</th>\n",
       "      <th>ano</th>\n",
       "      <th>mes</th>\n",
       "      <th>dia</th>\n",
       "    </tr>\n",
       "  </thead>\n",
       "  <tbody>\n",
       "    <tr>\n",
       "      <th>3646</th>\n",
       "      <td>3 Ninjas Do Barulho</td>\n",
       "      <td>2007</td>\n",
       "      <td>Janeiro</td>\n",
       "      <td>12</td>\n",
       "    </tr>\n",
       "    <tr>\n",
       "      <th>3668</th>\n",
       "      <td>3 Ninjas Do Barulho</td>\n",
       "      <td>2006</td>\n",
       "      <td>Janeiro</td>\n",
       "      <td>12</td>\n",
       "    </tr>\n",
       "    <tr>\n",
       "      <th>2922</th>\n",
       "      <td>A Filha Do Presidente</td>\n",
       "      <td>2009</td>\n",
       "      <td>Fevereiro</td>\n",
       "      <td>02</td>\n",
       "    </tr>\n",
       "    <tr>\n",
       "      <th>1252</th>\n",
       "      <td>A Filha Do Presidente</td>\n",
       "      <td>2016</td>\n",
       "      <td>Fevereiro</td>\n",
       "      <td>02</td>\n",
       "    </tr>\n",
       "    <tr>\n",
       "      <th>6209</th>\n",
       "      <td>A Joia Do Nilo</td>\n",
       "      <td>1996</td>\n",
       "      <td>Setembro</td>\n",
       "      <td>10</td>\n",
       "    </tr>\n",
       "    <tr>\n",
       "      <th>...</th>\n",
       "      <td>...</td>\n",
       "      <td>...</td>\n",
       "      <td>...</td>\n",
       "      <td>...</td>\n",
       "    </tr>\n",
       "    <tr>\n",
       "      <th>3660</th>\n",
       "      <td>Um Tira No Jardim De Infância</td>\n",
       "      <td>2006</td>\n",
       "      <td>Janeiro</td>\n",
       "      <td>02</td>\n",
       "    </tr>\n",
       "    <tr>\n",
       "      <th>1955</th>\n",
       "      <td>Vestida Para Casar</td>\n",
       "      <td>2013</td>\n",
       "      <td>Fevereiro</td>\n",
       "      <td>26</td>\n",
       "    </tr>\n",
       "    <tr>\n",
       "      <th>1268</th>\n",
       "      <td>Vestida Para Casar</td>\n",
       "      <td>2016</td>\n",
       "      <td>Fevereiro</td>\n",
       "      <td>26</td>\n",
       "    </tr>\n",
       "    <tr>\n",
       "      <th>3653</th>\n",
       "      <td>Xuxa Popstar</td>\n",
       "      <td>2007</td>\n",
       "      <td>Janeiro</td>\n",
       "      <td>23</td>\n",
       "    </tr>\n",
       "    <tr>\n",
       "      <th>3675</th>\n",
       "      <td>Xuxa Popstar</td>\n",
       "      <td>2006</td>\n",
       "      <td>Janeiro</td>\n",
       "      <td>23</td>\n",
       "    </tr>\n",
       "  </tbody>\n",
       "</table>\n",
       "<p>164 rows × 4 columns</p>\n",
       "</div>"
      ],
      "text/plain": [
       "                             titulo   ano        mes dia\n",
       "3646            3 Ninjas Do Barulho  2007    Janeiro  12\n",
       "3668            3 Ninjas Do Barulho  2006    Janeiro  12\n",
       "2922          A Filha Do Presidente  2009  Fevereiro  02\n",
       "1252          A Filha Do Presidente  2016  Fevereiro  02\n",
       "6209                 A Joia Do Nilo  1996   Setembro  10\n",
       "...                             ...   ...        ...  ..\n",
       "3660  Um Tira No Jardim De Infância  2006    Janeiro  02\n",
       "1955             Vestida Para Casar  2013  Fevereiro  26\n",
       "1268             Vestida Para Casar  2016  Fevereiro  26\n",
       "3653                   Xuxa Popstar  2007    Janeiro  23\n",
       "3675                   Xuxa Popstar  2006    Janeiro  23\n",
       "\n",
       "[164 rows x 4 columns]"
      ]
     },
     "execution_count": 12,
     "metadata": {},
     "output_type": "execute_result"
    }
   ],
   "source": [
    "df[df.duplicated(subset=[\"titulo\", \"mes\", \"dia\"], keep=False)].sort_values(by=\"titulo\", ascending=True)"
   ]
  },
  {
   "attachments": {},
   "cell_type": "markdown",
   "metadata": {},
   "source": [
    "#### Quantidade de filmes que foram transmitidos no mesmo mês e dia"
   ]
  },
  {
   "cell_type": "code",
   "execution_count": 13,
   "metadata": {},
   "outputs": [
    {
     "data": {
      "text/plain": [
       "76"
      ]
     },
     "execution_count": 13,
     "metadata": {},
     "output_type": "execute_result"
    }
   ],
   "source": [
    "df[df.duplicated(subset=[\"titulo\", \"mes\", \"dia\"])][\"titulo\"].nunique()"
   ]
  },
  {
   "attachments": {},
   "cell_type": "markdown",
   "metadata": {},
   "source": [
    "#### Filmes transmitidos no dia 29 de Fevereiro, em um ano bissexto"
   ]
  },
  {
   "cell_type": "code",
   "execution_count": 14,
   "metadata": {},
   "outputs": [
    {
     "data": {
      "text/html": [
       "<div>\n",
       "<style scoped>\n",
       "    .dataframe tbody tr th:only-of-type {\n",
       "        vertical-align: middle;\n",
       "    }\n",
       "\n",
       "    .dataframe tbody tr th {\n",
       "        vertical-align: top;\n",
       "    }\n",
       "\n",
       "    .dataframe thead th {\n",
       "        text-align: right;\n",
       "    }\n",
       "</style>\n",
       "<table border=\"1\" class=\"dataframe\">\n",
       "  <thead>\n",
       "    <tr style=\"text-align: right;\">\n",
       "      <th></th>\n",
       "      <th>titulo</th>\n",
       "      <th>ano</th>\n",
       "      <th>mes</th>\n",
       "      <th>dia</th>\n",
       "    </tr>\n",
       "  </thead>\n",
       "  <tbody>\n",
       "    <tr>\n",
       "      <th>1269</th>\n",
       "      <td>Esposa De Mentirinha</td>\n",
       "      <td>2016</td>\n",
       "      <td>Fevereiro</td>\n",
       "      <td>29</td>\n",
       "    </tr>\n",
       "    <tr>\n",
       "      <th>2200</th>\n",
       "      <td>Duplex</td>\n",
       "      <td>2012</td>\n",
       "      <td>Fevereiro</td>\n",
       "      <td>29</td>\n",
       "    </tr>\n",
       "    <tr>\n",
       "      <th>3193</th>\n",
       "      <td>Bebês Em Ação</td>\n",
       "      <td>2008</td>\n",
       "      <td>Fevereiro</td>\n",
       "      <td>29</td>\n",
       "    </tr>\n",
       "    <tr>\n",
       "      <th>5160</th>\n",
       "      <td>O Grande Dragão Branco</td>\n",
       "      <td>2000</td>\n",
       "      <td>Fevereiro</td>\n",
       "      <td>29</td>\n",
       "    </tr>\n",
       "    <tr>\n",
       "      <th>6082</th>\n",
       "      <td>Um Visto Para O Céu</td>\n",
       "      <td>1996</td>\n",
       "      <td>Fevereiro</td>\n",
       "      <td>29</td>\n",
       "    </tr>\n",
       "    <tr>\n",
       "      <th>7991</th>\n",
       "      <td>O Planeta Proibido</td>\n",
       "      <td>1988</td>\n",
       "      <td>Fevereiro</td>\n",
       "      <td>29</td>\n",
       "    </tr>\n",
       "  </tbody>\n",
       "</table>\n",
       "</div>"
      ],
      "text/plain": [
       "                      titulo   ano        mes dia\n",
       "1269    Esposa De Mentirinha  2016  Fevereiro  29\n",
       "2200                  Duplex  2012  Fevereiro  29\n",
       "3193           Bebês Em Ação  2008  Fevereiro  29\n",
       "5160  O Grande Dragão Branco  2000  Fevereiro  29\n",
       "6082     Um Visto Para O Céu  1996  Fevereiro  29\n",
       "7991      O Planeta Proibido  1988  Fevereiro  29"
      ]
     },
     "execution_count": 14,
     "metadata": {},
     "output_type": "execute_result"
    }
   ],
   "source": [
    "df[(df[\"dia\"] == \"29\") & (df[\"mes\"] == \"Fevereiro\")]"
   ]
  },
  {
   "attachments": {},
   "cell_type": "markdown",
   "metadata": {},
   "source": [
    "#### Análise Textual"
   ]
  },
  {
   "cell_type": "code",
   "execution_count": 41,
   "metadata": {},
   "outputs": [],
   "source": [
    "def clean_text(text):\n",
    "    CLEANR = re.compile('<.*?>')\n",
    "    REPLACE_BY_SPACE_RE = re.compile('[/(){}\\[\\]\\|@,.;]')\n",
    "    \n",
    "    text = str(text)\n",
    "    text = text.lower()\n",
    "    text = re.sub(CLEANR, ' ', text)\n",
    "    text = REPLACE_BY_SPACE_RE.sub(' ', text)\n",
    "    text = re.sub(r'\\W+', ' ', text)\n",
    "    text = re.sub(r' +', ' ', text)\n",
    "    text = re.sub(r'\\d+', '', text)\n",
    "    \n",
    "    return text.strip()"
   ]
  },
  {
   "cell_type": "code",
   "execution_count": 16,
   "metadata": {},
   "outputs": [],
   "source": [
    "stopwords = nltk.corpus.stopwords.words('portuguese')\n",
    "\n",
    "def stopwords_remove(text):\n",
    "  # tokenização\n",
    "  texts_list = list(map(str.split, text))\n",
    "\n",
    "  # remoção de stopwords\n",
    "  tokens_clean = []\n",
    "  for text in texts_list:\n",
    "    text_clean = [token for token in text if token not in stopwords]\n",
    "    tokens_clean.append(' '.join(text_clean))\n",
    "\n",
    "  return tokens_clean "
   ]
  },
  {
   "cell_type": "code",
   "execution_count": 42,
   "metadata": {},
   "outputs": [],
   "source": [
    "def processing(text) -> list:\n",
    "    titulos = list(map(clean_text, text))\n",
    "    titulos = stopwords_remove(titulos)\n",
    "    titulos = list(map(str.split, titulos))\n",
    "    return titulos"
   ]
  },
  {
   "cell_type": "code",
   "execution_count": 46,
   "metadata": {},
   "outputs": [],
   "source": [
    "titulos = processing(df['titulo'])"
   ]
  },
  {
   "cell_type": "code",
   "execution_count": 48,
   "metadata": {},
   "outputs": [],
   "source": [
    "def counting_words(titulos):\n",
    "    titulos = processing(df['titulo'])\n",
    "    return Counter(list(flatten(titulos)))"
   ]
  },
  {
   "cell_type": "code",
   "execution_count": 49,
   "metadata": {},
   "outputs": [],
   "source": [
    "counter_words = counting_words(titulos)"
   ]
  },
  {
   "cell_type": "code",
   "execution_count": 50,
   "metadata": {},
   "outputs": [
    {
     "data": {
      "text/plain": [
       "[('amor', 313),\n",
       " ('vida', 165),\n",
       " ('família', 123),\n",
       " ('volta', 100),\n",
       " ('aventura', 98),\n",
       " ('trapalhões', 97),\n",
       " ('grande', 90),\n",
       " ('aventuras', 90),\n",
       " ('papai', 77),\n",
       " ('príncipe', 77)]"
      ]
     },
     "execution_count": 50,
     "metadata": {},
     "output_type": "execute_result"
    }
   ],
   "source": [
    "counter_words.most_common(10)"
   ]
  }
 ],
 "metadata": {
  "kernelspec": {
   "display_name": "venv",
   "language": "python",
   "name": "python3"
  },
  "language_info": {
   "codemirror_mode": {
    "name": "ipython",
    "version": 3
   },
   "file_extension": ".py",
   "mimetype": "text/x-python",
   "name": "python",
   "nbconvert_exporter": "python",
   "pygments_lexer": "ipython3",
   "version": "3.8.10"
  },
  "orig_nbformat": 4
 },
 "nbformat": 4,
 "nbformat_minor": 2
}
